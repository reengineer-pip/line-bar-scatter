{
  "nbformat": 4,
  "nbformat_minor": 0,
  "metadata": {
    "colab": {
      "provenance": []
    },
    "kernelspec": {
      "name": "python3",
      "display_name": "Python 3"
    },
    "language_info": {
      "name": "python"
    }
  },
  "cells": [
    {
      "cell_type": "code",
      "execution_count": null,
      "metadata": {
        "id": "6onYfL42HPf6"
      },
      "outputs": [],
      "source": [
        "import matplotlib.pyplot as plt\n",
        "from matplotlib.animation import FuncAnimation, PillowWriter\n",
        "import numpy as np\n",
        "from IPython.display import HTML\n",
        "import datetime\n",
        "import pandas as pd\n",
        "from re import I\n",
        "import itertools\n",
        "import matplotlib.animation as animation\n",
        "from matplotlib import cm\n",
        "from mpl_toolkits.mplot3d import Axes3D\n",
        "from mpl_toolkits.mplot3d.art3d import Poly3DCollection\n",
        "from scipy.interpolate import make_interp_spline\n",
        "\n",
        "read_file = pd.read_excel('50 ml sevkiyatlar sade.xlsx')\n",
        "read_file.to_csv (\"Test.csv\",\n",
        "index = None,\n",
        "header=True)\n",
        "df = pd.DataFrame(pd.read_csv(\"Test.csv\",parse_dates=True))\n",
        "\n",
        "data_time = df.groupby(['Plan. Sevk. Tarih/Saat'])['Bağlı Satış Mik.'].sum()\n",
        "dt = data_time[2:]\n",
        "idx = pd.date_range('2023-01-02', '2023-12-31')\n",
        "dt.index = pd.DatetimeIndex(dt.index)\n",
        "dt = dt.reindex(idx, fill_value=0)\n",
        "dt.head(),dt.shape"
      ]
    },
    {
      "cell_type": "code",
      "source": [
        "# SCATTER PLOT #\n",
        "\n",
        "fig, ax = plt.subplots(figsize=(40,10))\n",
        "\n",
        "plt.style.use(\"seaborn-v0_8-dark\")\n",
        "\n",
        "for param in ['figure.facecolor', 'axes.facecolor', 'savefig.facecolor']:\n",
        "    plt.rcParams[param] = '#%02x%02x%02x' % (0, 0, 0) # '#212946'   bluish dark grey\n",
        "for param in ['text.color', 'axes.labelcolor', 'xtick.color', 'ytick.color']:\n",
        "    plt.rcParams[param] = '0.9'  # very light grey\n",
        "\n",
        "colors = [\n",
        "    '#08F7FE',  # teal/cyan '#%02x%02x%02x' % (0, 128, 64)\n",
        "    '#FE53BB',  # pink\n",
        "    '#F5D300',  # yellow\n",
        "    '#00ff41', # matrix green\n",
        "    ]\n",
        "\n",
        "ax.set_facecolor(\"black\")\n",
        "\n",
        "n_drops = 364\n",
        "\n",
        "data = np.array([np.array([i for i in range(364)]),np.array(dt.values)]).reshape(364,-2)\n",
        "\n",
        "rain_drops = np.zeros(n_drops, dtype=[#('position', float, (2,)),\n",
        "                                      ('size',     float),\n",
        "                                      ('growth',   float),\n",
        "                                      #('color',    float, (4,))\n",
        "                                      ])\n",
        "\n",
        "rain_drops['growth'] = np.array(dt.values)/8000\n",
        "rain_drops['size'] = 0\n",
        "scat = ax.scatter(np.array([i for i in range(364)]), np.array(dt.values),\n",
        "               s=rain_drops['size'],\n",
        "               c=\"pink\",\n",
        "               alpha=0.98\n",
        "                  )\n",
        "\n",
        "\n",
        "def update(i):\n",
        "    rain_drops['size'] += rain_drops['growth']\n",
        "    ax.set_xticklabels([])\n",
        "    ax.set_yticklabels([])\n",
        "    scat.set_sizes(rain_drops['size'])\n",
        "    #kw = dict(prop=\"sizes\", num=6, color=scat.cmap(0.3), fmt=\"{x}\",func=lambda s: s)\n",
        "    #ax.legend(*scat.legend_elements(**kw),labelspacing=4)\n",
        "\n",
        "\n",
        "anima = animation.FuncAnimation(fig, update, frames=80, interval=40 ,repeat = False)\n",
        "FFwriter = animation.FFMpegWriter(fps=30)\n",
        "anima.save('scatter_sales.mp4', writer = FFwriter)\n",
        "#HTML(anima.to_html5_video())"
      ],
      "metadata": {
        "id": "RCUf9IQiHi_E"
      },
      "execution_count": null,
      "outputs": []
    },
    {
      "cell_type": "code",
      "source": [
        "# BAR PLOT #\n",
        "\n",
        "fig, ax1 = plt.subplots(figsize=(40,10))\n",
        "\n",
        "x = [i+1 for i in range(364)]\n",
        "y = dt.values\n",
        "\n",
        "ax1.set_facecolor(\"black\")\n",
        "\n",
        "data = np.column_stack([np.linspace(0, yi, 80) for yi in y])\n",
        "\n",
        "ax1.set_ylim(0, max(y))\n",
        "\n",
        "\n",
        "def animate(i):\n",
        "    ax1.cla()\n",
        "    ax1.set_ylim(0, max(y))\n",
        "    rects = ax1.bar(x, data[i], color='c',align=\"center\")\n",
        "    ax1.bar_label(rects, padding=5,rotation=90,fontsize=8,color=\"grey\")\n",
        "    ax1.set_xticklabels([])\n",
        "    ax1.set_yticklabels([])\n",
        "\n",
        "\n",
        "anim1 = animation.FuncAnimation(fig, animate, frames=len(data), interval=40,repeat=False)\n",
        "\n",
        "FFwriter = animation.FFMpegWriter(fps=30)\n",
        "anim1.save('bar_sales.mp4', writer = FFwriter)\n",
        "#HTML(anim1.to_html5_video())"
      ],
      "metadata": {
        "id": "ce0xNBr7LMZ8"
      },
      "execution_count": null,
      "outputs": []
    },
    {
      "cell_type": "code",
      "source": [
        "# LINE PLOT #\n",
        "\n",
        "fig, ax = plt.subplots(figsize=(40,10))\n",
        "\n",
        "x = dt.index\n",
        "y = dt.values\n",
        "\n",
        "ax.set_facecolor(\"black\")\n",
        "line, = ax.plot(x,y, label='Forecast', color='#00ff41')\n",
        "plt.tick_params(labelsize=15)\n",
        "\n",
        "\n",
        "def update(num):\n",
        "    line.set_data(x[:num], y[:num])\n",
        "    ax.set_xticklabels([])\n",
        "    return line,\n",
        "\n",
        "anim2 = animation.FuncAnimation(fig, update, frames=len(x),\n",
        "                               interval=8,\n",
        "                              repeat=False)\n",
        "FFwriter = animation.FFMpegWriter(fps=140)\n",
        "anim2.save('line_sales.mp4', writer = FFwriter)\n",
        "#HTML(anim2.to_html5_video())"
      ],
      "metadata": {
        "collapsed": true,
        "id": "xghEVQXiLTvO"
      },
      "execution_count": null,
      "outputs": []
    }
  ]
}